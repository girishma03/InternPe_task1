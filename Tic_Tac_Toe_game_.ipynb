{
  "nbformat": 4,
  "nbformat_minor": 0,
  "metadata": {
    "colab": {
      "provenance": []
    },
    "kernelspec": {
      "name": "python3",
      "display_name": "Python 3"
    },
    "language_info": {
      "name": "python"
    }
  },
  "cells": [
    {
      "cell_type": "code",
      "execution_count": 91,
      "metadata": {
        "id": "5TV8JbS5weWm"
      },
      "outputs": [],
      "source": [
        "import random"
      ]
    },
    {
      "cell_type": "code",
      "source": [
        "board = [\"-\", \"-\", \"-\",\n",
        "        \"-\", \"-\", \"-\",\n",
        "        \"-\", \"-\", \"-\"]\n",
        "currentPlayer = \"X\"\n",
        "winner = None\n",
        "gameRunning = True"
      ],
      "metadata": {
        "id": "CGV9iI27wwDC"
      },
      "execution_count": 92,
      "outputs": []
    },
    {
      "cell_type": "code",
      "source": [
        "# game board\n",
        "def printBoard(board):\n",
        "    print(board[0] + \" | \" + board[1] + \" | \" + board[2])\n",
        "    print(\"---------\")\n",
        "    print(board[3] + \" | \" + board[4] + \" | \" + board[5])\n",
        "    print(\"---------\")\n",
        "    print(board[6] + \" | \" + board[7] + \" | \" + board[8])"
      ],
      "metadata": {
        "id": "EVeho8REw0wM"
      },
      "execution_count": 93,
      "outputs": []
    },
    {
      "cell_type": "code",
      "source": [
        "# take player input\n",
        "def playerInput(board):\n",
        "    inp = int(input(\"Select a position 1-9: \"))\n",
        "    if board[inp-1] == \"-\":\n",
        "        board[inp-1] = currentPlayer\n",
        "    else:\n",
        "        print(\"Sorry player is already at that position.\")"
      ],
      "metadata": {
        "id": "Wt00cHgIw7MV"
      },
      "execution_count": 94,
      "outputs": []
    },
    {
      "cell_type": "code",
      "source": [
        "# check for win or tie\n",
        "def checkHorizontle(board):\n",
        "    global winner\n",
        "    if board[0] == board[1] == board[2] and board[0] != \"-\":\n",
        "        winner = board[0]\n",
        "        return True\n",
        "    elif board[3] == board[4] == board[5] and board[3] != \"-\":\n",
        "        winner = board[3]\n",
        "        return True\n",
        "    elif board[6] == board[7] == board[8] and board[6] != \"-\":\n",
        "        winner = board[6]\n",
        "        return True"
      ],
      "metadata": {
        "id": "ZaR6Tyesw-hS"
      },
      "execution_count": 95,
      "outputs": []
    },
    {
      "cell_type": "code",
      "source": [
        "def checkRow(board):\n",
        "    global winner\n",
        "    if board[0] == board[3] == board[6] and board[0] != \"-\":\n",
        "        winner = board[0]\n",
        "        return True\n",
        "    elif board[1] == board[4] == board[7] and board[1] != \"-\":\n",
        "        winner = board[1]\n",
        "        return True\n",
        "    elif board[2] == board[5] == board[8] and board[2] != \"-\":\n",
        "        winner = board[3]\n",
        "        return True"
      ],
      "metadata": {
        "id": "0t9ec9HJxCD6"
      },
      "execution_count": 96,
      "outputs": []
    },
    {
      "cell_type": "code",
      "source": [
        "def checkDiag(board):\n",
        "    global winner\n",
        "    if board[0] == board[4] == board[8] and board[0] != \"-\":\n",
        "        winner = board[0]\n",
        "        return True\n",
        "    elif board[2] == board[4] == board[6] and board[4] != \"-\":\n",
        "        winner = board[2]\n",
        "        return True"
      ],
      "metadata": {
        "id": "jNLQeKHGxHZz"
      },
      "execution_count": 97,
      "outputs": []
    },
    {
      "cell_type": "code",
      "source": [
        "def checkIfWin(board):\n",
        "    global gameRunning\n",
        "    if checkHorizontle(board):\n",
        "        printBoard(board)\n",
        "        print(f\"The winner is {winner}!\")\n",
        "        gameRunning = False\n",
        "\n",
        "    elif checkRow(board):\n",
        "        printBoard(board)\n",
        "        print(f\"The winner is {winner}!\")\n",
        "        gameRunning = False\n",
        "\n",
        "    elif checkDiag(board):\n",
        "        printBoard(board)\n",
        "        print(f\"The winner is {winner}!\")\n",
        "        gameRunning = False"
      ],
      "metadata": {
        "id": "KLF-BEVuxKD7"
      },
      "execution_count": 98,
      "outputs": []
    },
    {
      "cell_type": "code",
      "source": [
        "def checkIfTie(board):\n",
        "    global gameRunning\n",
        "    if \"-\" not in board:\n",
        "        printBoard(board)\n",
        "        print(\"It is a tie!\")\n",
        "        gameRunning = False"
      ],
      "metadata": {
        "id": "tN8i0N8wxN41"
      },
      "execution_count": 99,
      "outputs": []
    },
    {
      "cell_type": "code",
      "source": [
        "# switch the player\n",
        "def switchPlayer():\n",
        "    global currentPlayer\n",
        "    if currentPlayer == \"X\":\n",
        "        currentPlayer = \"O\"\n",
        "    else:\n",
        "        currentPlayer = \"X\""
      ],
      "metadata": {
        "id": "pquNKaX7xR8a"
      },
      "execution_count": 100,
      "outputs": []
    },
    {
      "cell_type": "code",
      "source": [
        "def computer(board):\n",
        "    while currentPlayer == \"O\":\n",
        "        position = random.randint(0, 8)\n",
        "        if board[position] == \"-\":\n",
        "            board[position] = \"O\"\n",
        "            switchPlayer()\n",
        "\n",
        "#check for win or tie again\n",
        "while gameRunning:\n",
        "    printBoard(board)\n",
        "    playerInput(board)\n",
        "    checkIfWin(board)\n",
        "    checkIfTie(board)\n",
        "    switchPlayer()\n",
        "    computer(board)\n",
        "    checkIfWin(board)\n",
        "    checkIfTie(board)"
      ],
      "metadata": {
        "colab": {
          "base_uri": "https://localhost:8080/"
        },
        "id": "tkYNGuQvxVtX",
        "outputId": "83dc0095-1a35-4141-c2f8-71e76026cfba"
      },
      "execution_count": 101,
      "outputs": [
        {
          "output_type": "stream",
          "name": "stdout",
          "text": [
            "- | - | -\n",
            "---------\n",
            "- | - | -\n",
            "---------\n",
            "- | - | -\n",
            "Select a position 1-9: 1\n",
            "X | - | -\n",
            "---------\n",
            "- | - | -\n",
            "---------\n",
            "O | - | -\n",
            "Select a position 1-9: 3\n",
            "X | O | X\n",
            "---------\n",
            "- | - | -\n",
            "---------\n",
            "O | - | -\n",
            "Select a position 1-9: 8\n",
            "X | O | X\n",
            "---------\n",
            "O | - | -\n",
            "---------\n",
            "O | X | -\n",
            "Select a position 1-9: 4\n",
            "Sorry player is already at that position.\n",
            "X | O | X\n",
            "---------\n",
            "O | - | O\n",
            "---------\n",
            "O | X | -\n",
            "Select a position 1-9: 5\n",
            "X | O | X\n",
            "---------\n",
            "O | X | O\n",
            "---------\n",
            "O | X | O\n",
            "It is a tie!\n"
          ]
        }
      ]
    }
  ]
}